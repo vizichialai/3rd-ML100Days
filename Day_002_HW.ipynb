{
 "cells": [
  {
   "cell_type": "markdown",
   "metadata": {},
   "source": [
    "## [作業目標]\n",
    "了解機器學習適合應用的領域與範疇。"
   ]
  },
  {
   "cell_type": "markdown",
   "metadata": {},
   "source": [
    "## [作業重點]\n",
    "透過瞭解機器學習的運作方式，找出非常適用機器學習應用的領域及其原因"
   ]
  },
  {
   "cell_type": "markdown",
   "metadata": {},
   "source": [
    "## 作業\n",
    "請找出一個你認為機器學習可以發光發熱的領域並闡述原因? "
   ]
  },
  {
   "cell_type": "code",
   "execution_count": 8,
   "metadata": {},
   "outputs": [
    {
     "name": "stdout",
     "output_type": "stream",
     "text": [
      "個人期待機器學習可以協助在數學教育之中，從技能面、邏輯概念面、推理論證可以很廣泛的被應用\n"
     ]
    }
   ],
   "source": [
    "print(\"個人期待機器學習可以協助在數學教育之中，從技能面、邏輯概念面、推理論證可以很廣泛的被應用\")"
   ]
  },
  {
   "cell_type": "code",
   "execution_count": 9,
   "metadata": {},
   "outputs": [
    {
     "name": "stdout",
     "output_type": "stream",
     "text": [
      "Supervised Learning就像我這年代的的補習教育，大量的寫考卷，一個概念下變換幾種題型，要學生答出標準答案。雖然常有陷阱，但大多有解題規則。\n"
     ]
    }
   ],
   "source": [
    "print(\"Supervised Learning就像我這年代的的補習教育，大量的寫考卷，一個概念下變換幾種題型，要學生答出標準答案。雖然常有陷阱，但大多有解題規則。\")"
   ]
  },
  {
   "cell_type": "code",
   "execution_count": 10,
   "metadata": {},
   "outputs": [
    {
     "name": "stdout",
     "output_type": "stream",
     "text": [
      "Unsupervised Learning可類比為當代的啟發式教育，在原理原則架構下要自行歸納演繹、邏輯辨斷然後產品最適答案。\n"
     ]
    }
   ],
   "source": [
    "print(\"Unsupervised Learning可類比為當代的啟發式教育，在原理原則架構下要自行歸納演繹、邏輯辨斷然後產品最適答案。\")"
   ]
  },
  {
   "cell_type": "code",
   "execution_count": 11,
   "metadata": {},
   "outputs": [
    {
     "name": "stdout",
     "output_type": "stream",
     "text": [
      "Reinforceent Learning跟珠心算檢定很像，就是一套技巧先練速度接著練準度，然後速度與準度都可以接近極致水準\n"
     ]
    }
   ],
   "source": [
    "print(\"Reinforceent Learning跟珠心算檢定很像，就是一套技巧先練速度接著練準度，然後速度與準度都可以接近極致水準\")"
   ]
  },
  {
   "cell_type": "code",
   "execution_count": null,
   "metadata": {},
   "outputs": [],
   "source": []
  }
 ],
 "metadata": {
  "kernelspec": {
   "display_name": "Python 3",
   "language": "python",
   "name": "python3"
  },
  "language_info": {
   "codemirror_mode": {
    "name": "ipython",
    "version": 3
   },
   "file_extension": ".py",
   "mimetype": "text/x-python",
   "name": "python",
   "nbconvert_exporter": "python",
   "pygments_lexer": "ipython3",
   "version": "3.7.3"
  }
 },
 "nbformat": 4,
 "nbformat_minor": 2
}
